{
 "cells": [
  {
   "cell_type": "code",
   "execution_count": 1,
   "metadata": {},
   "outputs": [],
   "source": [
    "# email credentials\n",
    "username = 'xxxx'\n",
    "pw = 'xxx'"
   ]
  },
  {
   "cell_type": "code",
   "execution_count": 2,
   "metadata": {},
   "outputs": [],
   "source": [
    "# import necessary Libraries\n",
    "from imap_tools import MailBox, AND\n",
    "import pandas as pd\n",
    "import datetime"
   ]
  },
  {
   "cell_type": "code",
   "execution_count": 3,
   "metadata": {},
   "outputs": [],
   "source": [
    "# get contents from gmail inbox\n",
    "dates = []\n",
    "topic = []\n",
    "files = []\n",
    "attachment = []\n",
    "\n",
    "with MailBox('imap.gmail.com').login(username, pw, 'INBOX') as mailbox:\n",
    "  for msg in mailbox.fetch(AND(subject='Usage Data')):\n",
    "    for att in msg.attachments:\n",
    "      if att.filename.endswith('.csv'): # extracting csv files from attachments\n",
    "        dates.append(msg.date)\n",
    "        topic.append(msg.subject)\n",
    "        files.append(att.filename)\n",
    "        attachment.append(att.payload)       \n"
   ]
  },
  {
   "cell_type": "code",
   "execution_count": 4,
   "metadata": {},
   "outputs": [],
   "source": [
    "# locating the most recent attachment\n",
    "maxdate = max(dates)\n",
    "index = dates.index(maxdate)\n",
    "attachment_loc = attachment[index]"
   ]
  },
  {
   "cell_type": "code",
   "execution_count": 5,
   "metadata": {},
   "outputs": [
    {
     "data": {
      "text/plain": [
       "Index(['Workspace', 'Textbox120', 'Textbox122', 'DisplayName', 'Textbox242',\n",
       "       'Textbox239', 'ViewersCount', 'ViewsCount'],\n",
       "      dtype='object')"
      ]
     },
     "execution_count": 5,
     "metadata": {},
     "output_type": "execute_result"
    }
   ],
   "source": [
    "# extracting content from attachment and converting to dataframe\n",
    "from io import StringIO\n",
    "s = str(attachment_loc, 'utf-8')\n",
    "df = pd.read_csv(StringIO(s))\n",
    "\n",
    "df.columns"
   ]
  }
 ],
 "metadata": {
  "kernelspec": {
   "display_name": "Python 3.8.10 64-bit (windows store)",
   "language": "python",
   "name": "python3"
  },
  "language_info": {
   "codemirror_mode": {
    "name": "ipython",
    "version": 3
   },
   "file_extension": ".py",
   "mimetype": "text/x-python",
   "name": "python",
   "nbconvert_exporter": "python",
   "pygments_lexer": "ipython3",
   "version": "3.8.10"
  },
  "orig_nbformat": 4,
  "vscode": {
   "interpreter": {
    "hash": "62d64d3d20f35096fd4097d7d172635944091f3bfa583a57f96cd1b541ad8e5b"
   }
  }
 },
 "nbformat": 4,
 "nbformat_minor": 2
}
